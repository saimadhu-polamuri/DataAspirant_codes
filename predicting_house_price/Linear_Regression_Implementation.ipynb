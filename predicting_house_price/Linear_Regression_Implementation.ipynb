{
 "cells": [
  {
   "cell_type": "code",
   "execution_count": null,
   "metadata": {},
   "outputs": [],
   "source": [
    "#Finding price of house using linear regression\n",
    "#Linear regression implementation in python"
   ]
  },
  {
   "cell_type": "code",
   "execution_count": 2,
   "metadata": {},
   "outputs": [],
   "source": [
    "\n",
    "# Required Packages\n",
    " \n",
    "import matplotlib.pyplot as plt\n",
    "import numpy as np\n",
    "import pandas as pd\n",
    "from sklearn import datasets, linear_model"
   ]
  },
  {
   "cell_type": "code",
   "execution_count": 3,
   "metadata": {},
   "outputs": [],
   "source": [
    "#  Dataset is stored In csv file which is named as input_data.csv"
   ]
  },
  {
   "cell_type": "code",
   "execution_count": 4,
   "metadata": {},
   "outputs": [],
   "source": [
    "# Function to show the resutls of  linear fit model\n",
    "#So let’s write a function to get our data into X values ( square_feet  ) Y values (Price)"
   ]
  },
  {
   "cell_type": "code",
   "execution_count": 5,
   "metadata": {},
   "outputs": [],
   "source": [
    "\n",
    "# Function to get data\n",
    "def get_data(file_name):\n",
    "    data = pd.read_csv(file_name)\n",
    "    x_parameter = []\n",
    "    y_parameter = []\n",
    "    for single_square_feet ,single_price_value in zip(data['square_feet'],data['price']):\n",
    "        x_parameter.append([float(single_square_feet)])\n",
    "        y_parameter.append(float(single_price_value))\n",
    "    return x_parameter,y_parameter"
   ]
  },
  {
   "cell_type": "code",
   "execution_count": 15,
   "metadata": {},
   "outputs": [],
   "source": [
    "#Reading csv data to pandas DataFrame \n",
    "#Converting pandas dataframe data to x_parameter and y_parameter data returning them"
   ]
  },
  {
   "cell_type": "code",
   "execution_count": 16,
   "metadata": {},
   "outputs": [
    {
     "name": "stdout",
     "output_type": "stream",
     "text": [
      "[[150.0], [200.0], [250.0], [300.0], [350.0], [400.0], [600.0]]\n",
      "[6450.0, 7450.0, 8450.0, 9450.0, 11450.0, 15450.0, 18450.0]\n"
     ]
    }
   ],
   "source": [
    "#So let’s print our x_parameters and y_parameters\n",
    "x,y = get_data('input_data.csv')\n",
    "print (x)\n",
    "print (y)"
   ]
  },
  {
   "cell_type": "code",
   "execution_count": 17,
   "metadata": {},
   "outputs": [],
   "source": [
    "#we converted data to X_parameters and Y_parameter so let’s fit our X_parameters and Y_parameters \n",
    "#to Linear Regression model"
   ]
  },
  {
   "cell_type": "code",
   "execution_count": 18,
   "metadata": {},
   "outputs": [],
   "source": [
    "# function which will take  x_parameters ,y_parameter and the value you gonna predict  as input and \n",
    "#return the θ0 ,θ1  and predicted value"
   ]
  },
  {
   "cell_type": "code",
   "execution_count": 19,
   "metadata": {},
   "outputs": [],
   "source": [
    "# Function for Fitting data to Linear model\n",
    "def linear_model_main(X_parameters,Y_parameters,predict_value):\n",
    " \n",
    "    # Create linear regression object\n",
    "    regr = linear_model.LinearRegression()\n",
    "    regr.fit(X_parameters, Y_parameters)\n",
    "    predict_outcome = regr.predict(predict_value)\n",
    "    predictions = {}\n",
    "    predictions['intercept'] = regr.intercept_\n",
    "    predictions['coefficient'] = regr.coef_\n",
    "    predictions['predicted_value'] = predict_outcome\n",
    "    return predictions"
   ]
  },
  {
   "cell_type": "code",
   "execution_count": 29,
   "metadata": {},
   "outputs": [
    {
     "name": "stdout",
     "output_type": "stream",
     "text": [
      "Intercept value  1771.8085106382969\n",
      "coefficient [28.77659574]\n",
      "Predicted value:  [21915.42553191]\n"
     ]
    }
   ],
   "source": [
    "# function with predicting value as 700\n",
    "x,y = get_data('input_data.csv')\n",
    "predict_value = 700\n",
    "result = linear_model_main(x,y,predict_value)\n",
    "print (\"Intercept value \" , result['intercept'])\n",
    "print (\"coefficient\" , result['coefficient'])\n",
    "print (\"Predicted value: \",result['predicted_value'])"
   ]
  },
  {
   "cell_type": "code",
   "execution_count": 23,
   "metadata": {},
   "outputs": [],
   "source": [
    "# write a function which takes X_parameters and Y_parameters as input and \n",
    "#show the linear line fitting for our data."
   ]
  },
  {
   "cell_type": "code",
   "execution_count": 30,
   "metadata": {},
   "outputs": [],
   "source": [
    "# Function to show the resutls of linear fit model\n",
    "def show_linear_line(X_parameters,Y_parameters):\n",
    "    # Create linear regression object\n",
    "    regr = linear_model.LinearRegression()\n",
    "    regr.fit(X_parameters, Y_parameters)\n",
    "    plt.scatter(X_parameters,Y_parameters,color='blue')\n",
    "    plt.plot(X_parameters,regr.predict(X_parameters),color='red',linewidth=4)\n",
    "    plt.xticks(())\n",
    "    plt.yticks(())\n",
    "    plt.show()\n",
    " "
   ]
  },
  {
   "cell_type": "code",
   "execution_count": 25,
   "metadata": {},
   "outputs": [],
   "source": [
    "#So let call our show_linear_line Function"
   ]
  },
  {
   "cell_type": "code",
   "execution_count": 31,
   "metadata": {},
   "outputs": [
    {
     "data": {
      "image/png": "[encoded data removed]",
      "text/plain": [
       "<matplotlib.figure.Figure at 0x1141577b8>"
      ]
     },
     "metadata": {},
     "output_type": "display_data"
    }
   ],
   "source": [
    "\n",
    "show_linear_line(x,y)"
   ]
  },
  {
   "cell_type": "code",
   "execution_count": null,
   "metadata": {},
   "outputs": [],
   "source": []
  }
 ],
 "metadata": {
  "kernelspec": {
   "display_name": "Python 3",
   "language": "python",
   "name": "python3"
  },
  "language_info": {
   "codemirror_mode": {
    "name": "ipython",
    "version": 3
   },
   "file_extension": ".py",
   "mimetype": "text/x-python",
   "name": "python",
   "nbconvert_exporter": "python",
   "pygments_lexer": "ipython3",
   "version": "3.6.4"
  }
 },
 "nbformat": 4,
 "nbformat_minor": 2
}
